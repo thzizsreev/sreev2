{
  "nbformat": 4,
  "nbformat_minor": 0,
  "metadata": {
    "colab": {
      "provenance": []
    },
    "kernelspec": {
      "name": "python3",
      "display_name": "Python 3"
    },
    "language_info": {
      "name": "python"
    }
  },
  "cells": [
    {
      "cell_type": "code",
      "source": [
        "import numpy as np\n",
        "import matplotlib.pyplot as plt"
      ],
      "metadata": {
        "id": "lK9V6ZuDNSh1"
      },
      "execution_count": null,
      "outputs": []
    },
    {
      "cell_type": "code",
      "source": [
        "class GridWorld(object):\n",
        "    def __init__(self, m, e, n,cord,st_cost,stock,tr_cost,lead_time,t_cy):\n",
        "        #self.cord = np.zeros((m,e))\n",
        "        #self.graph = np.zeros((n,n))\n",
        "        t=np.zeros((m,e))\n",
        "        for i in range(m):\n",
        "          for j in range(e):\n",
        "            if cord[i][j] >= 1:\n",
        "              t[i][j]= 1\n",
        "        self.alpha = t\n",
        "\n",
        "        self.lead_time = lead_time #lead times matrix\n",
        "        self.t_cy = t_cy          # order cycle\n",
        "        #self.graph = graph         # adjacency matrix\n",
        "        self.cord = cord           # echelon matrix\n",
        "        self.st_cost = st_cost     # storage cost\n",
        "        self.stock = stock         # demand forecasted A.K.A target\n",
        "        self.tr_cost = tr_cost     # transportation cost\n",
        "\n",
        "        self.m = m\n",
        "        self.e = e\n",
        "        self.n = n\n",
        "\n",
        "        self.stateSpace = [(i+1) for i in range(n)]\n",
        "        del self.stateSpace[0]\n",
        "        self.stateSpacePlus = [(i+1) for i in range(n)]\n",
        "       # self.actionSpace = {'U': -self.m, 'D': self.m,'L': -1, 'R': 1}\n",
        "        self.possibleActions = ['N','D','I']\n",
        "        # dict with magic squares and resulting squares\n",
        "        #self.addMagicSquares(magicSquares)\n",
        "        self.agentPosition = (n)\n",
        "\n",
        "    def isTerminalState(self, state):\n",
        "        return state in self.stateSpacePlus and state not in self.stateSpace\n",
        "\n",
        "    # def addMagicSquares(self, magicSquares):\n",
        "    #     self.magicSquares = magicSquares\n",
        "    #     i = 2\n",
        "    #     for square in self.magicSquares:\n",
        "    #         x = square // self.m\n",
        "    #         y = square % self.n\n",
        "    #         self.grid[x][y] = i\n",
        "    #         i += 1\n",
        "    #         x = magicSquares[square] // self.m\n",
        "    #         y = magicSquares[square] % self.n\n",
        "    #         self.grid[x][y] = i\n",
        "    #         i += 1\n",
        "\n",
        "    def getAgentRowAndColumn(self):\n",
        "        for i in range(m):\n",
        "          for j in range(e):\n",
        "            if self.cord[i][j] == self.agentPosition:\n",
        "              return i,j\n",
        "\n",
        "    def setState(self, state):\n",
        "        # x, y = self.getAgentRowAndColumn()\n",
        "        # self.grid[x][y] = 0\n",
        "        self.agentPosition = state\n",
        "        # x, y = self.getAgentRowAndColumn()\n",
        "        # self.grid[x][y] = 1\n",
        "\n",
        "    # def offGridMove(self, newState, oldState):\n",
        "    #     # if we move into a row not in the grid\n",
        "    #     if newState not in self.stateSpacePlus:\n",
        "    #         return True\n",
        "    #     # if we're trying to wrap around to next row\n",
        "    #     elif oldState % self.m == 0 and newState  % self.m == self.m - 1:\n",
        "    #         return True\n",
        "    #     elif oldState % self.m == self.m - 1 and newState % self.m == 0:\n",
        "    #         return True\n",
        "    #     else:\n",
        "    #         return False\n",
        "    # def cords(self , grid):\n",
        "    #   for i in range(m):\n",
        "    #     for j in range(e):\n",
        "    #       if grid[i][j] == self.agentPosition:\n",
        "    #         return i,j\n",
        "\n",
        "    def update(self,action,X,Y):\n",
        "      if(action == 'I'):\n",
        "        self.alpha[X][Y]= np.random.uniform( self.alpha[X][Y] , 1)\n",
        "      elif(action == 'D'):\n",
        "        self.alpha[X][Y]= np.random.uniform( 0 , self.alpha[X][Y])\n",
        "      else:\n",
        "        self.alpha[X][Y]= self.alpha[X][Y]\n",
        "\n",
        "    def reward_compute(self,X,Y):\n",
        "      import sys\n",
        "      max_int = sys.maxsize\n",
        "      t1 = self.st_cost[X][Y]*(self.stock[X][Y] * self.alpha[X][Y])*self.t_cy\n",
        "      #a1 = 1 - self.alpha[X][Y]\n",
        "      t2 = self.tr_cost[X][Y]*((1 - self.alpha[X][Y])*self.stock[X][Y])\n",
        "      t3 = self.st_cost[X][Y]*((1 - self.alpha[X][Y])*self.stock[X][Y])*(self.t_cy - self.lead_time[X][Y])\n",
        "      result = 100000000 - (t1+t2+t3)\n",
        "      return result\n",
        "\n",
        "    def step(self, action):\n",
        "        agentX, agentY = self.getAgentRowAndColumn()\n",
        "        #update values\n",
        "        resultingState = self.agentPosition - 1\n",
        "\n",
        "       # i = cords(grid)\n",
        "        self.update(action , agentX,agentY)\n",
        "\n",
        "\n",
        "\n",
        "\n",
        "        reward = self.reward_compute(agentX,agentY)\n",
        "        # if resultingState in self.magicSquares.keys():\n",
        "        #     resultingState = magicSquares[resultingState]\n",
        "\n",
        "        #reward = -1 if not self.isTerminalState(resultingState) else 0\n",
        "        if not self.isTerminalState(resultingState):\n",
        "            self.setState(resultingState)\n",
        "            return resultingState, reward, \\\n",
        "                   self.isTerminalState(resultingState), None\n",
        "        else:\n",
        "            return self.agentPosition, reward, \\\n",
        "                   self.isTerminalState(resultingState), None\n",
        "\n",
        "\n",
        "\n",
        "    def reset(self):\n",
        "        self.agentPosition = self.n-1\n",
        "        # t=np.zeros((m,e))\n",
        "        # for i in range(m):\n",
        "        #   for j in range(e):\n",
        "        #     if cord[i][j] >= 1:\n",
        "        #       t[i][j]= 1\n",
        "        # self.alpha = t\n",
        "        #self.grid = np.zeros((self.m,self.n))\n",
        "       # self.addMagicSquares(self.magicSquares)\n",
        "        return self.agentPosition\n",
        "\n",
        "    def render(self):\n",
        "        print('------------------------------------------')\n",
        "        for row in self.alpha:\n",
        "            for col in row:\n",
        "                print(col,\"\\t\")\n",
        "            print('\\n')\n",
        "        print('------------------------------------------')\n",
        "\n",
        "    def actionSpaceSample(self):\n",
        "        return np.random.choice(self.possibleActions)\n"
      ],
      "metadata": {
        "id": "rQnV-LTKNY-H"
      },
      "execution_count": null,
      "outputs": []
    },
    {
      "cell_type": "code",
      "source": [
        "def maxAction(Q, state, actions):\n",
        "    values = np.array([Q[state,a] for a in actions])\n",
        "    action = np.argmax(values)\n",
        "    return actions[action]"
      ],
      "metadata": {
        "id": "BAS_iQW8i_mP"
      },
      "execution_count": null,
      "outputs": []
    },
    {
      "cell_type": "code",
      "source": [
        "import sys\n",
        "min_int = -sys.maxsize - 1\n",
        "print(min_int)"
      ],
      "metadata": {
        "colab": {
          "base_uri": "https://localhost:8080/"
        },
        "id": "b2Mk6Wb7YJMe",
        "outputId": "c341e0f6-9c63-4384-deae-8a78286152d5"
      },
      "execution_count": null,
      "outputs": [
        {
          "output_type": "stream",
          "name": "stdout",
          "text": [
            "-9223372036854775808\n"
          ]
        }
      ]
    },
    {
      "cell_type": "code",
      "source": [
        "if __name__ == '__main__':\n",
        "    # map magic squares to their connecting square\n",
        "\n",
        "    #environment details\n",
        "    m=4\n",
        "    e=3\n",
        "    n=7\n",
        "    cord = [[4,0,0],[5,2,1],[6,3,0],[7,0,0]]\n",
        "    st_cost = [[5,6,4,8],[0,10,12,0],[0,9,0,0]]\n",
        "    tr_cost = [[4,3,5,2],[0,5,6,0],[0,0,0,0]]\n",
        "    stock = [[1000,2000,1500,3000],[0,8000,7000,0],[0,11000,0,0]]\n",
        "    lead_time = [[10,12,9,14],[0,13,18,0],[0,0,0,0]]\n",
        "    t_cy = 30\n",
        "    #setup\n",
        "    env = GridWorld(m,e,n,cord,st_cost,stock,tr_cost,lead_time,t_cy)\n",
        "\n",
        "    # model hyperparameters\n",
        "    ALPHA = 0.1\n",
        "    GAMMA = 1.0\n",
        "    EPS = 1.0\n",
        "\n",
        "    Q = {}\n",
        "    for state in env.stateSpacePlus:\n",
        "        for action in env.possibleActions:\n",
        "            Q[state, action] = 0\n",
        "\n",
        "    numGames = 100\n",
        "    totalRewards = np.zeros(numGames)\n",
        "    for i in range(numGames):\n",
        "        if i % 5000 == 0:\n",
        "            print('starting game ', i)\n",
        "        done = False\n",
        "        epRewards = 0\n",
        "        observation = env.reset()\n",
        "        while not done:\n",
        "            rand = np.random.random()\n",
        "            action = maxAction(Q,observation, env.possibleActions) if rand < (1-EPS) \\\n",
        "                                                    else env.actionSpaceSample()\n",
        "            #print(i,\":\",action)\n",
        "            observation_, reward, done, info = env.step(action)\n",
        "            epRewards += reward\n",
        "\n",
        "            action_ = maxAction(Q, observation_, env.possibleActions)\n",
        "            Q[observation,action] = Q[observation,action] + ALPHA*(reward + \\\n",
        "                        GAMMA*Q[observation_,action_] - Q[observation,action])\n",
        "            observation = observation_\n",
        "            # if(done):\n",
        "            #   env.render()\n",
        "        if EPS - 10 / numGames > 0:\n",
        "            EPS -= 10 / numGames\n",
        "        else:\n",
        "            EPS = 0\n",
        "        totalRewards[i] = epRewards\n",
        "        print(i,\":\",epRewards)\n",
        "\n"
      ],
      "metadata": {
        "colab": {
          "base_uri": "https://localhost:8080/"
        },
        "collapsed": true,
        "id": "SUyamgLCjAQN",
        "outputId": "05411c4f-8382-417b-a736-f44d466c5dfd"
      },
      "execution_count": null,
      "outputs": [
        {
          "output_type": "stream",
          "name": "stdout",
          "text": [
            "starting game  0\n",
            "0 : 494480000.0\n",
            "1 : 494480000.0\n",
            "2 : 494480000.0\n",
            "3 : 494502885.2095297\n",
            "4 : 494502885.2095297\n",
            "5 : 494651650.1764871\n",
            "6 : 494651650.1764871\n",
            "7 : 494651650.1764871\n",
            "8 : 494655130.7231203\n",
            "9 : 494655130.7231203\n",
            "10 : 494655130.7231203\n",
            "11 : 494655130.7231203\n",
            "12 : 494655130.7231203\n",
            "13 : 494655130.7231203\n",
            "14 : 494655130.7231203\n",
            "15 : 494655130.7231203\n",
            "16 : 494655130.7231203\n",
            "17 : 494655130.7231203\n",
            "18 : 494655130.7231203\n",
            "19 : 494655130.7231203\n",
            "20 : 494655130.7231203\n",
            "21 : 494655130.7231203\n",
            "22 : 494655130.7231203\n",
            "23 : 494655130.7231203\n",
            "24 : 494655130.7231203\n",
            "25 : 494655130.7231203\n",
            "26 : 494655130.7231203\n",
            "27 : 494655130.7231203\n",
            "28 : 494655130.7231203\n",
            "29 : 494655130.7231203\n",
            "30 : 494655130.7231203\n",
            "31 : 494655130.7231203\n",
            "32 : 494655130.7231203\n",
            "33 : 494655130.7231203\n",
            "34 : 494655130.7231203\n",
            "35 : 494655130.7231203\n",
            "36 : 494655130.7231203\n",
            "37 : 494655130.7231203\n",
            "38 : 494655130.7231203\n",
            "39 : 494655130.7231203\n",
            "40 : 494655130.7231203\n",
            "41 : 494655130.7231203\n",
            "42 : 494655130.7231203\n",
            "43 : 494655130.7231203\n",
            "44 : 494655130.7231203\n",
            "45 : 494655130.7231203\n",
            "46 : 494655130.7231203\n",
            "47 : 494655130.7231203\n",
            "48 : 494655130.7231203\n",
            "49 : 494655130.7231203\n",
            "50 : 494655130.7231203\n",
            "51 : 494655130.7231203\n",
            "52 : 494655130.7231203\n",
            "53 : 494655130.7231203\n",
            "54 : 494655130.7231203\n",
            "55 : 494655130.7231203\n",
            "56 : 494655130.7231203\n",
            "57 : 494655130.7231203\n",
            "58 : 494655130.7231203\n",
            "59 : 494655130.7231203\n",
            "60 : 494655130.7231203\n",
            "61 : 494655130.7231203\n",
            "62 : 494655130.7231203\n",
            "63 : 494655130.7231203\n",
            "64 : 494655130.7231203\n",
            "65 : 494655130.7231203\n",
            "66 : 494655130.7231203\n",
            "67 : 494655130.7231203\n",
            "68 : 494655130.7231203\n",
            "69 : 494655130.7231203\n",
            "70 : 494655130.7231203\n",
            "71 : 494655130.7231203\n",
            "72 : 494655130.7231203\n",
            "73 : 494655130.7231203\n",
            "74 : 494655130.7231203\n",
            "75 : 494655130.7231203\n",
            "76 : 494655130.7231203\n",
            "77 : 494655130.7231203\n",
            "78 : 494655130.7231203\n",
            "79 : 494655130.7231203\n",
            "80 : 494655130.7231203\n",
            "81 : 494655130.7231203\n",
            "82 : 494655130.7231203\n",
            "83 : 494655130.7231203\n",
            "84 : 494655130.7231203\n",
            "85 : 494655130.7231203\n",
            "86 : 494655130.7231203\n",
            "87 : 494655130.7231203\n",
            "88 : 494655130.7231203\n",
            "89 : 494655130.7231203\n",
            "90 : 494655130.7231203\n",
            "91 : 494655130.7231203\n",
            "92 : 494655130.7231203\n",
            "93 : 494655130.7231203\n",
            "94 : 494655130.7231203\n",
            "95 : 494655130.7231203\n",
            "96 : 494655130.7231203\n",
            "97 : 494655130.7231203\n",
            "98 : 494655130.7231203\n",
            "99 : 494655130.7231203\n"
          ]
        }
      ]
    },
    {
      "cell_type": "code",
      "source": [
        "print(Q)"
      ],
      "metadata": {
        "colab": {
          "base_uri": "https://localhost:8080/"
        },
        "id": "tPbAJAcKRNua",
        "outputId": "dec35d5e-ae2e-4934-92a2-469abb7a7bfe"
      },
      "execution_count": null,
      "outputs": [
        {
          "output_type": "stream",
          "name": "stdout",
          "text": [
            "{(1, 'D'): -9223372036854775808, (1, 'N'): -9223372036854775808, (1, 'I'): -9223372036854775808, (2, 'D'): -9.223372036864498e+18, (2, 'N'): -9.223372036864545e+18, (2, 'I'): -9.22337203686454e+18, (3, 'D'): -9.22337203686547e+18, (3, 'N'): -9.223372036865522e+18, (3, 'I'): -9.2233720368656e+18, (4, 'D'): -9.223372036863631e+18, (4, 'N'): -9.223372036863576e+18, (4, 'I'): -9.223372036863728e+18, (5, 'D'): -9.223372036861571e+18, (5, 'N'): -9.223372036861719e+18, (5, 'I'): -9.223372036861633e+18, (6, 'D'): -9.223372036859818e+18, (6, 'N'): -9.223372036859685e+18, (6, 'I'): -9.223372036859742e+18, (7, 'D'): -9223372036854775808, (7, 'N'): -9223372036854775808, (7, 'I'): -9223372036854775808}\n"
          ]
        }
      ]
    },
    {
      "cell_type": "code",
      "source": [
        "plt.plot(totalRewards)\n",
        "plt.show()"
      ],
      "metadata": {
        "colab": {
          "base_uri": "https://localhost:8080/",
          "height": 445
        },
        "id": "bENzS2jQjHQW",
        "outputId": "bd6ad2c4-a345-485d-d86e-acc16c2f404e"
      },
      "execution_count": null,
      "outputs": [
        {
          "output_type": "display_data",
          "data": {
            "text/plain": [
              "<Figure size 640x480 with 1 Axes>"
            ],
            "image/png": "[encoded data removed]"
          },
          "metadata": {}
        }
      ]
    },
    {
      "cell_type": "code",
      "source": [
        "print(env.alpha)"
      ],
      "metadata": {
        "colab": {
          "base_uri": "https://localhost:8080/"
        },
        "id": "V2M0DA1ZTQyz",
        "outputId": "0135f251-1728-47fb-86e3-22f119cb3b58"
      },
      "execution_count": null,
      "outputs": [
        {
          "output_type": "stream",
          "name": "stdout",
          "text": [
            "[[0.59425808 0.         0.        ]\n",
            " [0.13295655 0.16465352 1.        ]\n",
            " [0.00211357 0.84217234 0.        ]\n",
            " [1.         0.         0.        ]]\n"
          ]
        }
      ]
    },
    {
      "cell_type": "code",
      "source": [
        "\n",
        "for i in range(3):\n",
        "  t = [np.random.uniform(-1, 1), np.random.uniform(-1, 1)]\n",
        "  statespace.append(t)\n",
        "#statesspace = np.reshape(statespace, (2,150))\n",
        "print(np.shape(statespace))\n",
        "print(statespace)"
      ],
      "metadata": {
        "colab": {
          "base_uri": "https://localhost:8080/"
        },
        "id": "8wR168FrNp3V",
        "outputId": "36ef6431-42dd-48e0-8ce3-789d5fbd6527"
      },
      "execution_count": null,
      "outputs": [
        {
          "output_type": "stream",
          "name": "stdout",
          "text": [
            "(306, 2)\n",
            "[[1.4135990810669892, -0.2824817165897806], [1.2857822374088155, -0.7003558784384107], [2.8412761767693198, 0.6175505203126306], [-3.1299559512055866, -0.05530824574819371], [0.4131201961254467, -0.27094916069493813], [-0.5516047276739373, 0.8470339393629376], [-2.127058136869556, -0.08595165396318927], [1.1218052823214517, 0.4712634703801257], [0.09404465823206021, -0.43975522496421116], [1.226348233038526, -0.7002430751174267], [-0.7603447486721366, 0.24279091169273737], [1.604307779133343, -0.7399985739102037], [-1.9980689661095945, -0.8305754813150177], [2.8769812149577723, 0.5662265469282801], [2.1349845561832588, -0.8845188586752464], [0.38422280343294, -0.5874957386749569], [0.34486265182861686, 0.8982038448660381], [-1.4507485179200315, 0.1317866511821233], [-1.2591330257807438, -0.43815054733135117], [1.3736131993774405, -0.3274882561312875], [1.434797331768813, -0.4625246883256733], [0.19855944198169428, 0.9104372837115311], [-0.7346841431236886, 0.9435179663628384], [1.4078887389553953, -0.6723718486732166], [-0.45221095285124724, -0.0876215411353074], [2.5678940400189694, -0.11482537694204531], [-2.359161957600859, -0.9803276755192025], [-1.3712426168219107, 0.6841062044068802], [-0.6126199946473787, 0.014129589254329611], [-2.8797947061643185, 0.09076205817043981], [3.108914019678166, 0.9615203193536801], [-3.136311145476988, 0.5097103760349573], [2.1085872069921994, -0.6705444270072314], [-1.1821294239158033, 0.9646651517254741], [-3.0943054785789377, -0.8452445252431247], [-0.8916719758838192, -0.4621694700504697], [-0.800851601755546, 0.626781187704333], [-0.2472646749513414, -0.8135944710328957], [-0.29557385318637674, 0.6016214205659924], [-2.0927113430879043, -0.7206735459360716], [0.6357720306731003, -0.23363987178139745], [2.3145480893509305, -0.5343808989040706], [-0.5069023392172038, -0.8797274837587803], [1.1225145354975874, -0.4223225340772454], [-0.4887224600025859, 0.786946254800079], [-0.7788178273926616, -0.6049830203920135], [-0.4141080786951954, 0.7090130054501131], [-2.939402236499671, -0.5251604246760277], [1.3005395816063938, -0.20018185424224533], [-2.4246779640809804, -0.3788746789610504], [2.8327915349788952, 0.2933351233206549], [1.3417929008954266, -0.20599785139374327], [2.066886119714507, 0.2950345610312235], [-1.9501540300165618, -0.7263349908089287], [-1.254749288853457, 0.5398069367399041], [2.3871096760556263, -0.7320823326750392], [-0.28668314249592264, 0.5447243772871637], [0.27691175646224186, 0.6340776707026037], [1.9748873107461336, -0.45381155543094476], [-0.11411031985237718, 0.9774965699095097], [-1.2909172709710357, -0.050203814897962884], [-2.3027229294801925, 0.49961276212937333], [-0.9767539388664126, 0.8311269983653469], [-2.4314536558926108, 0.8160876525077287], [1.2704742884939675, -0.20827916118436618], [-3.135918367470214, 0.3281203963521513], [1.3291887213120637, -0.7228415959876897], [-0.49632524824282953, -0.18847101898764773], [-2.6690090817398, 0.7742748437097466], [-2.792886580755582, -0.9592075376930842], [2.716575554420208, -0.06102027140303723], [-1.0775775131260685, 0.4440424915469088], [-0.005418040188970963, -0.3842272923347627], [1.2945344057969708, -0.12408397964939577], [0.8103326631917875, -0.6966447621633061], [-1.457060737042945, 0.5717054351915793], [-1.0584784192807675, -0.4381749173995928], [-2.282524289453919, -0.10408503054563867], [2.7713526056948963, 0.689525903644894], [-3.139899278500497, -0.861883796884173], [-0.7294658163958014, 0.12532374371760757], [-1.5191495546922997, 0.5368304577977601], [2.74935396367648, 0.9863456006901059], [-1.875401895236988, -0.3583954636486515], [-0.626034631563384, 0.38792038502781256], [2.22297012888051, 0.05281324316673075], [-2.0881160969686183, 0.20780549869490827], [1.1532639366479822, -0.9031251081386458], [-0.872688739210508, 0.11498254117558959], [0.9779447923917592, -0.6702309355844538], [0.1747735102024377, -0.6494407884683122], [1.4135311505571604, -0.9483036615180536], [-1.8168619890439237, -0.35329927691730645], [2.23322154177818, 0.11126484034345285], [-0.14797678565738615, -0.8610427419333384], [0.9732393884672783, -0.656576284547798], [0.6752438393988576, 0.9600738710084666], [1.1784387790099187, 0.18165772566071703], [0.4877180067732949, -0.22031084083159436], [1.799703466262474, -0.38761815990892745], [-2.1423401298836335, -0.9911903049821986], [2.1390921249606656, 0.017931307989073275], [1.0037498208506008, 0.6373814047648523], [0.825390344649775, -0.768653181651153], [-1.9837030048173048, 0.5422935099627464], [0.5045506726209239, -0.6923621625516463], [2.976641993509233, 0.9842971127995717], [-1.6670047240885175, -0.3992100744141067], [1.369894359408482, -0.2478119546321036], [-0.6183539010183798, -0.12197347807697079], [-2.1297840779573303, -0.47212134346036816], [1.7125112253169812, -0.5701794304972698], [1.2141906696542435, -0.760874972919833], [-2.6529526965346686, 0.2138392476366957], [0.3241260990950878, 0.20632377330085316], [0.06805552442979357, -0.4179607468225017], [1.5889503196159733, 0.6708723520189255], [2.483997366617662, 0.9847293727182542], [2.1924757595295272, 0.940600901502479], [0.27052677122771307, 0.1262706551882049], [1.558560609236352, -0.05452896690215758], [2.7729111828465163, 0.0832820467757498], [2.7175278211720695, -0.2861553071456193], [-3.104181490587231, -0.9004907747156059], [-3.0707378298559687, 0.11868899510664344], [0.04909504165438339, 0.2301949236671319], [2.3013722737739597, 0.24212395781837381], [-1.0608687344306005, -0.8073400731974181], [-0.5657759755074361, 0.08736790603485067], [-0.648177258520644, -0.37551760038385784], [-1.90058576932125, 0.5252369166878337], [2.984194497250507, 0.9087485650224232], [0.4893543014087536, 0.49857249435287776], [-1.1068532376380875, 0.34478104556083466], [-3.040523561223419, 0.2119166407276658], [-1.51271671614881, 0.44790793537717266], [-2.4211296198230667, 0.06336056330451045], [-2.370629108891623, 0.6523195799171457], [-0.1593319781865179, -0.5122826311934532], [2.3594682707705594, -0.3165618800599872], [1.2487265999886619, 0.6889873763390564], [2.9965664397328187, -0.7103285640823382], [-2.8821495831859245, -0.9635131570553368], [0.42503728392992945, 0.482752746569757], [-0.6098808823910757, -0.34583367814168486], [-2.394949774749551, -0.9031512084887363], [-2.9978099707665153, 0.9208146792557397], [-2.2486172773968445, -0.31122910544616444], [0.9832843350533862, 0.05742250659355097], [-1.1746011904177471, -0.9906914113247622], [0.489200837286925, -0.6288849752435546], [2.550593569355538, 0.006131536835034979], [-2.1581633626387546, -0.5433183394939209], [-1.6968941213017927, -0.4648762875870833], [-3.069273685095502, 0.8199345799721562], [1.6895764959403223, -0.39548768397775946], [1.8371807495773487, -0.3545882703546801], [0.6156822917800877, 0.10904593138003316], [-0.4840080074403361, -0.8452059869118491], [1.2269143340635775, -0.4400428002197503], [2.9267243835483328, 0.1417780767758614], [0.6341540377811459, 0.6102648217880686], [-2.4293515236855363, -0.14806182235576348], [0.3087712539229277, -0.2363560292716782], [2.60048318605394, 0.24172719238320672], [-1.1236370364931916, -0.4849930842300618], [-0.616315548839308, 0.12109189201690018], [-2.4725272700870624, 0.4076143569779547], [2.0738329098816957, 0.6357672960786627], [1.183125028245934, 0.13918066145709806], [2.461281442531015, -0.9654470254598186], [0.3613318131768004, -0.37727701734158026], [-2.0464522534807266, -0.907447527878712], [1.3890884793172864, 0.06311285205330597], [-2.778747184077141, 0.5019837907765501], [-1.1042949659278758, 0.1804365058773898], [-2.6035473553829576, -0.5881492409400297], [-0.8498503876830563, 0.4132463133857103], [0.14470456224892558, 0.08654470049505636], [-1.4730699420211657, 0.4842809375652064], [-2.1467827438755003, 0.977683579577777], [2.5591720759783314, 0.8393767191628396], [2.5043932237524498, -0.9307736558276145], [-1.0391910225114458, -0.7014876322657246], [-1.3156563990585841, -0.6768706353156526], [-2.7539463481577036, 0.047983457840543586], [2.433623969893203, -0.4756117665596056], [1.4297797079367136, 0.5875621911467408], [3.09818008064288, 0.3993898159572209], [-2.5538934593809994, -0.06937419095719699], [0.2830327488906441, -0.02352521878377467], [2.186133993732785, 0.5393236649581807], [-1.5928846578973577, 0.04979206551111015], [-0.0699111217383277, 0.037898117809474385], [1.898291804516612, 0.03057754564359705], [-0.5257412878029131, -0.10956525696433306], [0.714902942767293, -0.7124503682762138], [-0.819228039194039, 0.9425447590410083], [-2.811027509370471, 0.7592454679282936], [1.384408348583416, 0.7696289839189061], [-1.2509858347458493, -0.8288022370825114], [-1.0796480400107038, -0.2934755216469802], [1.273047875692523, 0.29385898479931627], [0.6574502945262459, -0.23808570334877555], [1.8704277458425231, 0.6128148491943699], [1.9190147416691312, -0.4560649193606203], [2.9894166437033327, 0.08986880797613495], [-1.7078547565544175, -0.46915047853400593], [2.2192276506295396, 0.17158462808163466], [-0.8373513868225664, -0.5309224932582781], [2.667027975031477, 0.6350217811862429], [1.6302645189866851, -0.8371481567842098], [-0.7641294697328025, -0.8115823425885065], [0.14228290971441426, -0.05593919820908111], [0.3405145961637066, 0.4459682611448146], [2.709681480825732, 0.15053021523894294], [-1.0948913723894003, -0.49797284712143375], [-2.9214166495821297, 0.7854719505593795], [-1.1725141309056144, -0.24235451274962938], [2.7433825457253143, 0.5091475513877286], [-1.6834905865064842, 0.5783083742405466], [-0.34943808443478863, -0.9251053378235099], [-0.20046882016690937, 0.7276698006197639], [-1.4637235754819196, -0.10389601592481124], [1.2023200685677207, 0.7376622140364273], [1.8160406368594124, 0.8912910632338751], [2.657124752726866, 0.6883662103118413], [0.022529469203620867, 0.012373661265480562], [-2.8089978547381738, -0.6637939662767347], [1.3425587781892228, -0.7031151894821315], [-0.6345623830051013, -0.616616817243334], [-1.6331509653310028, -0.4720054837216332], [-2.149667976144724, 0.2225954153036196], [1.2169248297397237, -0.08891301441645272], [-0.5138645081212303, -0.937215320783511], [0.36577244979005785, -0.3203262612429909], [-0.1589996861228462, -0.820662823692236], [-3.028550242688709, 0.16634141052435591], [-0.24214620604178894, 0.7211152113498001], [0.7017469189135199, -0.21635813153931172], [1.454688469668766, 0.457584808988174], [-1.1194975242647036, -0.6244095186754388], [-2.9787116651207683, -0.5238108647912676], [3.0253285397600935, -0.14555826323742216], [2.005224342640478, 0.09678155650971854], [2.9229829272939174, -0.19032832234368957], [-2.676124113860516, -0.2629854774616509], [-0.491246480545406, 0.2789585588733192], [-1.7158587659413582, 0.3325590826343183], [2.6809540302581762, -0.8826886206634497], [0.6970570341827029, 0.35013464572951913], [3.0713276837713277, 0.2056365719715425], [2.5475963556500503, -0.5858090138402103], [2.0354987447967394, 0.9707860836802307], [2.6048087799018056, 0.24138542013064002], [2.898164664240113, -0.5377909236046319], [2.050604372868036, 0.6402222424235282], [0.8314440967898067, 0.5341841085083043], [0.9421817789804026, -0.4629003691454232], [0.44060894330422506, -0.9631997381956519], [-1.5506806561397588, -0.3352212557951626], [-0.5144044845465352, 0.6839552343360991], [-2.1844622548215624, 0.2609920341118164], [-0.35646404329712755, 0.5413441542340465], [-0.20369218561212143, -0.4908709102824762], [0.8914031506536082, -0.037658974238985676], [-1.5470089564760836, 0.028096255769970213], [0.6254268461362935, 0.3665698853666963], [-0.7958831837622253, 0.5291119284208925], [2.327330723131328, 0.6716726467079674], [-1.8259524345796792, -0.36529235745950595], [0.37920206987977956, 0.68269465284529], [-0.5447153998500465, -0.04542751329429029], [-0.03866041558519173, -0.697778990911851], [-0.7542955058321485, 0.13832939053598858], [-1.8690275412284476, 0.9743973714435361], [-1.8789676735173972, -0.9735437305226826], [-0.3174298978683119, 0.05859760701066863], [2.989354712375671, -0.31028185077091996], [-1.309914658755492, 0.7464705651747379], [-0.2490246284626494, -0.340910380597818], [-1.2442916680250258, 0.019842315535372634], [-1.3202163111460747, -0.7605576761195605], [0.9041424524578705, -0.016958338475280055], [1.9276418316708046, -0.11375039837661549], [1.3215898411779277, 0.07931283782748255], [-0.012821043413471678, 0.7542449784896661], [1.7133922400360557, 0.9395018769331529], [-2.3237625357919267, 0.5451782274029766], [-2.2453712167495175, 0.8706909580131683], [0.9444266571989557, 0.21660889310033826], [-1.9266088194047173, -0.6095497082819128], [-0.04058606628153738, -0.08537681201026759], [-1.567426485902961, 0.09979424445571561], [1.715618495377174, -0.28443119012624485], [-2.338950909072483, -0.8761787060920776], [-3.1080631137468213, -0.5426767728255735], [-0.911197667642011, 0.08917634735807645], [-1.2355746089378818, -0.9766959718859956], [-1.8575153513412974, -0.9309360718740416], [-0.3183212732693723, -0.7815386241053812], [-0.3480512550832211, -0.6115511634700266], [-0.46078469705569036, 0.9671123019671717], [-0.4059641265991636, -0.9954482963419913], [0.34295662272671823, 0.70983621593552], [-0.4015424789236166, -0.8026306741277971]]\n"
          ]
        }
      ]
    },
    {
      "cell_type": "code",
      "source": [
        "cord = [[4,0,0],[5,2,1],[6,3,0],[7,0,0]]\n",
        "t=np.zeros((4,3))\n",
        "for i in range(4):\n",
        "  for j in range(3):\n",
        "    if cord[i][j] >= 1:\n",
        "      t[i][j]= 1\n",
        "result = []\n",
        "result.append(t)\n",
        "result.append(t)"
      ],
      "metadata": {
        "id": "8SqmZzjDbE8P"
      },
      "execution_count": null,
      "outputs": []
    },
    {
      "cell_type": "code",
      "source": [
        "print(result)"
      ],
      "metadata": {
        "colab": {
          "base_uri": "https://localhost:8080/"
        },
        "id": "Tfx5i0-Nb2rf",
        "outputId": "3bf6fe41-dacf-441b-a66d-a7dfdd8ef0fc"
      },
      "execution_count": null,
      "outputs": [
        {
          "output_type": "stream",
          "name": "stdout",
          "text": [
            "[array([[1., 0., 0.],\n",
            "       [1., 1., 1.],\n",
            "       [1., 1., 0.],\n",
            "       [1., 0., 0.]]), array([[1., 0., 0.],\n",
            "       [1., 1., 1.],\n",
            "       [1., 1., 0.],\n",
            "       [1., 0., 0.]])]\n"
          ]
        }
      ]
    },
    {
      "cell_type": "code",
      "source": [
        "stateSpace = [(i+1) for i in range(5)]\n",
        "del stateSpace[0]\n",
        "stateSpacePlus = [(i+1) for i in range(5)]"
      ],
      "metadata": {
        "id": "i0z0IPHxIo-1"
      },
      "execution_count": null,
      "outputs": []
    },
    {
      "cell_type": "code",
      "source": [
        "print(stateSpacePlus)"
      ],
      "metadata": {
        "colab": {
          "base_uri": "https://localhost:8080/"
        },
        "id": "TqKeX2xXI7lD",
        "outputId": "2ee3765d-ee3d-4269-de5f-2e05d9d198cb"
      },
      "execution_count": null,
      "outputs": [
        {
          "output_type": "stream",
          "name": "stdout",
          "text": [
            "[1, 2, 3, 4, 5]\n"
          ]
        }
      ]
    }
  ]
}